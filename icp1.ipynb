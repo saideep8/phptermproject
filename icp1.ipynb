{
  "nbformat": 4,
  "nbformat_minor": 0,
  "metadata": {
    "colab": {
      "provenance": [],
      "authorship_tag": "ABX9TyPoas4rIZxYCjvro14e5wZ9",
      "include_colab_link": true
    },
    "kernelspec": {
      "name": "python3",
      "display_name": "Python 3"
    },
    "language_info": {
      "name": "python"
    }
  },
  "cells": [
    {
      "cell_type": "markdown",
      "metadata": {
        "id": "view-in-github",
        "colab_type": "text"
      },
      "source": [
        "<a href=\"https://colab.research.google.com/github/saideep8/phptermproject/blob/main/icp1.ipynb\" target=\"_parent\"><img src=\"https://colab.research.google.com/assets/colab-badge.svg\" alt=\"Open In Colab\"/></a>"
      ]
    },
    {
      "cell_type": "code",
      "execution_count": null,
      "metadata": {
        "colab": {
          "base_uri": "https://localhost:8080/"
        },
        "id": "RlZziH9X_y2O",
        "outputId": "fa5d6c90-d3f8-43d5-8158-c42b648dd952"
      },
      "outputs": [
        {
          "output_type": "stream",
          "name": "stdout",
          "text": [
            "-----Solution 1-----------------\n",
            "Sorted ages: [19, 19, 20, 22, 24, 24, 24, 25, 25, 26]\n",
            "Min age: 19\n",
            "Max age: 26\n",
            "Ages after adding min and max again: [19, 19, 20, 22, 24, 24, 24, 25, 25, 26, 19, 26]\n",
            "Median age: 24.0\n",
            "Average age: 22.75\n",
            "Range of ages: 7\n"
          ]
        }
      ],
      "source": [
        "#Question 1\n",
        "print(\"-----Solution 1-----------------\")\n",
        "ages = [19, 22, 19, 24, 20, 25, 26, 24, 25, 24]\n",
        "ages.sort()\n",
        "minAge = ages[0]\n",
        "maxAge = ages[-1]\n",
        "print(\"Sorted ages:\", ages)\n",
        "print(\"Min age:\", minAge)\n",
        "print(\"Max age:\", maxAge)\n",
        "ages.append(minAge)\n",
        "ages.append(maxAge)\n",
        "print(\"Ages after adding min and max again:\", ages)\n",
        "ages.sort()\n",
        "n = len(ages)\n",
        "if n % 2 == 0:\n",
        "    median_age = (ages[n//2 - 1] + ages[n//2]) / 2\n",
        "else:\n",
        "    median_age = ages[n//2]\n",
        "print(\"Median age:\", median_age)\n",
        "averageAge = sum(ages) / n\n",
        "print(\"Average age:\", averageAge)\n",
        "ageRange = maxAge - minAge\n",
        "print(\"Range of ages:\", ageRange)"
      ]
    },
    {
      "cell_type": "code",
      "source": [
        "#Question 2\n",
        "print(\"-----Solution 2-----------------\")\n",
        "dog = {}\n",
        "dog['name'] = 'Ziva'\n",
        "dog['color'] = 'Brown'\n",
        "dog['breed'] = 'German Shepherd'\n",
        "dog['legs'] = 4\n",
        "dog['age'] = 2\n",
        "print(\"Dog dictionary:\", dog)\n",
        "student = {\n",
        "    'first_name': 'Saideep Reddy',\n",
        "    'last_name': 'Vurivakili',\n",
        "    'gender': 'Male',\n",
        "    'age': 26,\n",
        "    'marital_status': 'Single',\n",
        "    'skills': ['Python', 'Java', 'JavaScript'],\n",
        "    'country': 'USA',\n",
        "    'city': 'Overland Park',\n",
        "    'address': 'Russell St'\n",
        "}\n",
        "print(\"Student dictionary:\", student)\n",
        "student_length = len(student)\n",
        "print(\"Length of student dictionary:\", student_length)\n",
        "skills = student['skills']\n",
        "print(\"Skills:\", skills)\n",
        "print(\"Data type of skills:\", type(skills))\n",
        "student['skills'].append('React')\n",
        "student['skills'].append('Express.js')\n",
        "print(\"Updated skills:\", student['skills'])\n",
        "student_keys = list(student.keys())\n",
        "print(\"Dictionary keys:\", student_keys)\n",
        "student_values = list(student.values())\n",
        "print(\"Dictionary values:\", student_values)"
      ],
      "metadata": {
        "colab": {
          "base_uri": "https://localhost:8080/"
        },
        "id": "kYU2cqf9AGm3",
        "outputId": "da308910-901f-4591-a384-67ff45da3927"
      },
      "execution_count": null,
      "outputs": [
        {
          "output_type": "stream",
          "name": "stdout",
          "text": [
            "-----Solution 2-----------------\n",
            "Dog dictionary: {'name': 'Ziva', 'color': 'Brown', 'breed': 'German Shepherd', 'legs': 4, 'age': 2}\n",
            "Student dictionary: {'first_name': 'Saideep Reddy', 'last_name': 'Vurivakili', 'gender': 'Male', 'age': 26, 'marital_status': 'Single', 'skills': ['Python', 'Java', 'JavaScript'], 'country': 'USA', 'city': 'Overland Park', 'address': 'Russell St'}\n",
            "Length of student dictionary: 9\n",
            "Skills: ['Python', 'Java', 'JavaScript']\n",
            "Data type of skills: <class 'list'>\n",
            "Updated skills: ['Python', 'Java', 'JavaScript', 'React', 'Express.js']\n",
            "Dictionary keys: ['first_name', 'last_name', 'gender', 'age', 'marital_status', 'skills', 'country', 'city', 'address']\n",
            "Dictionary values: ['Saideep Reddy', 'Vurivakili', 'Male', 26, 'Single', ['Python', 'Java', 'JavaScript', 'React', 'Express.js'], 'USA', 'Overland Park', 'Russell St']\n"
          ]
        }
      ]
    },
    {
      "cell_type": "code",
      "source": [
        "#Question 3\n",
        "print(\"----Solution 3-----------------\")\n",
        "sisters = ('Anitha', 'Prathyusha')\n",
        "brothers = ('Thej', 'Nitheesh')\n",
        "siblings = sisters + brothers\n",
        "print(\"Siblings:\", siblings)\n",
        "num_siblings = len(siblings)\n",
        "print(\"Number of siblings:\", num_siblings)\n",
        "family_members = siblings + ('Ravi', 'Suji')\n",
        "print(\"Family members:\", family_members)"
      ],
      "metadata": {
        "colab": {
          "base_uri": "https://localhost:8080/"
        },
        "id": "MJ77cDi5AOXc",
        "outputId": "42ef0436-5bc8-4d1d-c56a-9bc6d80d4620"
      },
      "execution_count": null,
      "outputs": [
        {
          "output_type": "stream",
          "name": "stdout",
          "text": [
            "----Solution 3-----------------\n",
            "Siblings: ('Anitha', 'Prathyusha', 'Thej', 'Nitheesh')\n",
            "Number of siblings: 4\n",
            "Family members: ('Anitha', 'Prathyusha', 'Thej', 'Nitheesh', 'Ravi', 'Suji')\n"
          ]
        }
      ]
    },
    {
      "cell_type": "code",
      "source": [
        "#Question 4\n",
        "print(\"----Solution 4-----------------\")\n",
        "it_companies = {'Facebook', 'Google', 'Microsoft', 'Apple', 'IBM', 'Oracle', 'Amazon'}\n",
        "A = {19, 22, 24, 20, 25, 26}\n",
        "B = {19, 22, 20, 25, 26, 24, 28, 27}\n",
        "age = [22, 19, 24, 25, 26, 24, 25, 24]\n",
        "len_it_companies = len(it_companies)\n",
        "print(\"Length of it_companies:\", len_it_companies)\n",
        "it_companies.add('Twitter')\n",
        "print(\"it_companies after adding 'Twitter':\", it_companies)\n",
        "new_companies = {'Corsair', 'CapitalOne', 'Yubi'}\n",
        "it_companies.update(new_companies)\n",
        "print(\"it_companies after adding multiple companies:\", it_companies)\n",
        "it_companies.remove('Amazon')\n",
        "print(\"it_companies after removing 'Amazon':\", it_companies)\n",
        "#the remove() method will raise an error if the specified item does not exist, and the discard() method will not.\n",
        "A_union_B = A.union(B)\n",
        "print(\"A union B:\", A_union_B)\n",
        "A_intersection_B = A.intersection(B)\n",
        "print(\"A intersection B:\", A_intersection_B)\n",
        "is_A_subset_B = A.issubset(B)\n",
        "print(\"Is A subset of B:\", is_A_subset_B)\n",
        "are_A_B_disjoint = A.isdisjoint(B)\n",
        "print(\"Are A and B disjoint sets:\", are_A_B_disjoint)\n",
        "A_union_B_again = A.union(B)\n",
        "B_union_A = B.union(A)\n",
        "print(\"A union B again:\", A_union_B_again)\n",
        "print(\"B union A:\", B_union_A)\n",
        "A_symmetric_difference_B = A.symmetric_difference(B)\n",
        "print(\"Symmetric difference between A and B:\", A_symmetric_difference_B)\n",
        "del A\n",
        "del B\n",
        "age_set = set(age)\n",
        "print(\"Length of age list:\", len(age))\n",
        "print(\"Length of age set:\", len(age_set))"
      ],
      "metadata": {
        "colab": {
          "base_uri": "https://localhost:8080/"
        },
        "id": "s3eyqce3AVxx",
        "outputId": "ec001c71-7a95-47ec-d040-84212cb2f0a9"
      },
      "execution_count": null,
      "outputs": [
        {
          "output_type": "stream",
          "name": "stdout",
          "text": [
            "----Solution 4-----------------\n",
            "Length of it_companies: 7\n",
            "it_companies after adding 'Twitter': {'Facebook', 'Apple', 'Microsoft', 'Google', 'Twitter', 'Amazon', 'IBM', 'Oracle'}\n",
            "it_companies after adding multiple companies: {'Corsair', 'Facebook', 'Apple', 'Microsoft', 'Twitter', 'CapitalOne', 'IBM', 'Oracle', 'Google', 'Amazon', 'Yubi'}\n",
            "it_companies after removing 'Amazon': {'Corsair', 'Facebook', 'Apple', 'Microsoft', 'Twitter', 'CapitalOne', 'IBM', 'Oracle', 'Google', 'Yubi'}\n",
            "A union B: {19, 20, 22, 24, 25, 26, 27, 28}\n",
            "A intersection B: {19, 20, 22, 24, 25, 26}\n",
            "Is A subset of B: True\n",
            "Are A and B disjoint sets: False\n",
            "A union B again: {19, 20, 22, 24, 25, 26, 27, 28}\n",
            "B union A: {19, 20, 22, 24, 25, 26, 27, 28}\n",
            "Symmetric difference between A and B: {27, 28}\n",
            "Length of age list: 8\n",
            "Length of age set: 5\n"
          ]
        }
      ]
    },
    {
      "cell_type": "code",
      "source": [
        "#Question 5\n",
        "import math\n",
        "print(\"----Solution 5-----------------\")\n",
        "radius = 30\n",
        "circleArea = math.pi * (radius ** 2)\n",
        "print(\"Area of the circle with radius 30 meters:\", circleArea)\n",
        "circum = 2 * math.pi * radius\n",
        "print(\"Circumference of the circle with radius 30 meters:\", circum)\n",
        "user_radius = float(input(\"Enter the radius of the circle: \"))\n",
        "user_area_of_circle = math.pi * (user_radius ** 2)\n",
        "print(\"Area of the circle with user-provided radius\", user_radius, \"meters:\", user_area_of_circle)"
      ],
      "metadata": {
        "colab": {
          "base_uri": "https://localhost:8080/"
        },
        "id": "nyCU-YAVAgGx",
        "outputId": "88302e91-d071-4feb-c826-8144d89ed428"
      },
      "execution_count": null,
      "outputs": [
        {
          "output_type": "stream",
          "name": "stdout",
          "text": [
            "----Solution 5-----------------\n",
            "Area of the circle with radius 30 meters: 2827.4333882308138\n",
            "Circumference of the circle with radius 30 meters: 188.49555921538757\n",
            "Enter the radius of the circle: 2\n",
            "Area of the circle with user-provided radius 2.0 meters: 12.566370614359172\n"
          ]
        }
      ]
    },
    {
      "cell_type": "code",
      "source": [
        "#Question 6\n",
        "print(\"----Solution 6-----------------\")\n",
        "sentence = \"I am a teacher and I love to inspire and teach people\"\n",
        "words = sentence.split()\n",
        "unique_words = set(words)\n",
        "num_unique_words = len(unique_words)\n",
        "print(\"Number of unique words:\", num_unique_words)\n",
        "print(\"Unique words:\", unique_words)"
      ],
      "metadata": {
        "colab": {
          "base_uri": "https://localhost:8080/"
        },
        "id": "qrXDlkRGAtSb",
        "outputId": "ef737899-3d40-4b52-f55f-707cbd3f6614"
      },
      "execution_count": null,
      "outputs": [
        {
          "output_type": "stream",
          "name": "stdout",
          "text": [
            "----Solution 6-----------------\n",
            "Number of unique words: 10\n",
            "Unique words: {'a', 'I', 'and', 'teach', 'inspire', 'teacher', 'am', 'love', 'people', 'to'}\n"
          ]
        }
      ]
    },
    {
      "cell_type": "code",
      "source": [
        "#Question 7\n",
        "print(\"----Solution 7-----------------\")\n",
        "print(\"Name\\tAge\\tCountry\\tCity\")\n",
        "print(\"Asabeneh\\t250\\tFinland\\tHelsinki\")\n"
      ],
      "metadata": {
        "colab": {
          "base_uri": "https://localhost:8080/"
        },
        "id": "xU22lSezA1Ms",
        "outputId": "9a7096aa-6f75-4784-9b12-6ae51b890983"
      },
      "execution_count": null,
      "outputs": [
        {
          "output_type": "stream",
          "name": "stdout",
          "text": [
            "----Solution 7-----------------\n",
            "Name\tAge\tCountry\tCity\n",
            "Asabeneh\t250\tFinland\tHelsinki\n"
          ]
        }
      ]
    },
    {
      "cell_type": "code",
      "source": [
        "#Question 8\n",
        "print(\"----Solution 8-----------------\")\n",
        "radius = 10\n",
        "area = 3.14 * radius ** 2\n",
        "message = \"The area of a circle with radius {} is {} meters square.\".format(radius, area)\n",
        "print(message)\n"
      ],
      "metadata": {
        "colab": {
          "base_uri": "https://localhost:8080/"
        },
        "id": "sW_tOQc_A4Kw",
        "outputId": "b65048d8-a101-4322-cd7a-15e1be64211a"
      },
      "execution_count": null,
      "outputs": [
        {
          "output_type": "stream",
          "name": "stdout",
          "text": [
            "----Solution 8-----------------\n",
            "The area of a circle with radius 10 is 314.0 meters square.\n"
          ]
        }
      ]
    },
    {
      "cell_type": "code",
      "source": [
        "#Question 8\n",
        "print(\"----Solution 8-----------------\")\n",
        "def lbs_to_kg(pounds):\n",
        "    return round(pounds * 0.453592, 2)\n",
        "N = int(input(\"Enter the number of students: \"))\n",
        "weights_lbs = []\n",
        "print(\"Enter the weights of the students in pounds:\")\n",
        "for _ in range(N):\n",
        "    weight = float(input())\n",
        "    weights_lbs.append(weight)\n",
        "weights_kg = []\n",
        "for weight in weights_lbs:\n",
        "    weights_kg.append(lbs_to_kg(weight))\n",
        "print(\"Weights in pounds:\", weights_lbs)\n",
        "print(\"Weights in kilograms:\", weights_kg)\n"
      ],
      "metadata": {
        "colab": {
          "base_uri": "https://localhost:8080/"
        },
        "id": "FmyoSte4A7S1",
        "outputId": "85dcf325-263e-4738-ae03-ed6a1470eb20"
      },
      "execution_count": null,
      "outputs": [
        {
          "output_type": "stream",
          "name": "stdout",
          "text": [
            "Enter the number of students: 2\n",
            "Enter the weights of the students in pounds:\n",
            "100\n",
            "200\n",
            "Weights in pounds: [100.0, 200.0]\n",
            "Weights in kilograms: [45.36, 90.72]\n"
          ]
        }
      ]
    }
  ]
}